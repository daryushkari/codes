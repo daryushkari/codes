{
 "cells": [
  {
   "cell_type": "code",
   "execution_count": 7,
   "id": "f5250b17-5632-40eb-85c8-3e4422047c22",
   "metadata": {},
   "outputs": [],
   "source": [
    "from pyspark.sql import SparkSession\n",
    "\n",
    "spark = SparkSession.builder \\\n",
    "    .appName(\"jabeja\") \\\n",
    "    .getOrCreate()\n"
   ]
  },
  {
   "cell_type": "code",
   "execution_count": 22,
   "id": "eb946446-111b-4926-9724-5b47175c65a8",
   "metadata": {},
   "outputs": [],
   "source": [
    "file_path = 'graph.txt'\n",
    "\n",
    "with open(file_path, 'r') as file:\n",
    "    lines = file.readlines()\n",
    "    tuples_list = [(int(line.split()[0]), int(line.split()[1])) for line in lines]\n"
   ]
  },
  {
   "cell_type": "code",
   "execution_count": 23,
   "id": "73b09aea-bc66-470a-a30d-e64baa5deeb4",
   "metadata": {},
   "outputs": [],
   "source": [
    "unique_numbers = set()\n",
    "\n",
    "for tuple_item in tuples_list:\n",
    "    for number in tuple_item:\n",
    "        unique_numbers.add(number)\n",
    "\n",
    "unique_numbers_list = list(unique_numbers)\n"
   ]
  },
  {
   "cell_type": "code",
   "execution_count": 16,
   "id": "8f61b83a-937e-43bf-8668-0db9ac37c794",
   "metadata": {},
   "outputs": [],
   "source": [
    "import random"
   ]
  },
  {
   "cell_type": "code",
   "execution_count": 29,
   "id": "dd76a9bf-e444-4d0a-93ff-ac9e2be3c37e",
   "metadata": {},
   "outputs": [],
   "source": [
    "color_assigned = {}\n",
    "for i in unique_numbers_list:\n",
    "    color_assigned[i] = random.randint(1, 4)"
   ]
  },
  {
   "cell_type": "code",
   "execution_count": 20,
   "id": "87580ea8-cc22-458c-91c7-959c46d74448",
   "metadata": {},
   "outputs": [],
   "source": [
    "nodes = [1,2,3,4]\n",
    "rdd = spark.sparkContext.parallelize(nodes)"
   ]
  },
  {
   "cell_type": "code",
   "execution_count": null,
   "id": "c842e813-859a-47a0-935a-d5fe5f00fb1f",
   "metadata": {},
   "outputs": [],
   "source": [
    "def process_element(x):\n",
    "    global color_assigned\n",
    "    global tuples_list # edges\n",
    "    global unique_numbers_list # nodes\n",
    "    print(\"unique_numbers_list:\", unique_numbers_list[0:5])\n",
    "    print(\"tuples_list:\", tuples_list[0:5])\n",
    "    print(\"color_assigned\", color_assigned[x])\n",
    "          \n",
    "    for iterates in range(0, 100000):\n",
    "        if iterates % 1000 == 0:\n",
    "            print(\"iteration:\", iterates)\n",
    "        random_nodes = random.sample(unique_numbers_list, 4)\n",
    "        \n",
    "        for i in random_nodes:\n",
    "            ns = get_neighbours(color_assigned, tuples_list, 1)\n",
    "            best_decrease_energy = 0\n",
    "            best_swap_node = -1\n",
    "            for j in ns:\n",
    "                c1 = color_assigned[i]\n",
    "                c2 = color_assigned[j]\n",
    "                initial_energy = get_energy(color_assigned, tuples_list, i)\n",
    "                initial_energy += get_energy(color_assigned, tuples_list, j)\n",
    "\n",
    "                swap_energy = get_energy_with_color(color_assigned, tuples_list, i, c2)\n",
    "                swap_energy += get_energy_with_color(color_assigned, tuples_list, j, c1)\n",
    "\n",
    "                decrease_energy = initial_energy - swap_energy\n",
    "                if decrease_energy > best_decrease_energy:\n",
    "                    best_decrease_energy = decrease_energy\n",
    "                    best_swap_node = j\n",
    "            if best_decrease_energy > 0:\n",
    "                c1 = color_assigned[i]\n",
    "                c2 = color_assigned[best_swap_node]\n",
    "                color_assigned[i] = c2\n",
    "                color_assigned[best_swap_node] = c1\n",
    "    return x * 2\n",
    "\n",
    "result_rdd = rdd.map(process_element)\n",
    "results = result_rdd.collect()\n",
    "print(results)"
   ]
  },
  {
   "cell_type": "code",
   "execution_count": 39,
   "id": "9edfeba6-9bb3-4774-b303-e6c9387df42e",
   "metadata": {},
   "outputs": [],
   "source": [
    "def get_energy(color_assigned, tuples_list, node):\n",
    "    neighbours = []\n",
    "    color = color_assigned[node]\n",
    "    energy = 0\n",
    "    for i in tuples_list:\n",
    "        if i[0] == node:\n",
    "            neighbours.append(i[1])\n",
    "        if  i[1] == node:\n",
    "            neighbours.append(i[0])\n",
    "    for i in neighbours:\n",
    "        if color != color_assigned[i]:\n",
    "            energy = energy+1\n",
    "    return energy"
   ]
  },
  {
   "cell_type": "code",
   "execution_count": null,
   "id": "92050bb4",
   "metadata": {},
   "outputs": [],
   "source": [
    "class Node:\n",
    "    node_name = \"\"\n",
    "    sub_graph_index = 0\n",
    "    neighbour_list = []\n",
    "\n",
    "    def add_node(self, node, node_name):\n",
    "        self.nodes[node_name] = node\n",
    "    \n",
    "    def add_sub_graph(self, sub_graph):\n",
    "        self.sub_graphs.append(sub_graph)\n",
    "    \n",
    "    def rename_node(self, node_rename):\n",
    "        self.node_name = node_rename"
   ]
  },
  {
   "cell_type": "code",
   "execution_count": 41,
   "id": "c607e489-e40f-4eec-82ff-14724e8ccc58",
   "metadata": {},
   "outputs": [],
   "source": [
    "def get_neighbours(color_assigned, tuples_list, node):\n",
    "    neighbours = []\n",
    "    for i in tuples_list:\n",
    "        if i[0] == node:\n",
    "            neighbours.append(i[1])\n",
    "        if  i[1] == node:\n",
    "            neighbours.append(i[0])\n",
    "    return neighbours"
   ]
  },
  {
   "cell_type": "code",
   "execution_count": 44,
   "id": "0ff4d367-6015-48a7-a7d0-7eabfe6014d6",
   "metadata": {},
   "outputs": [],
   "source": [
    "def get_energy_with_color(color_assigned, tuples_list, node, color_number):\n",
    "    neighbours = []\n",
    "    color = color_number\n",
    "    energy = 1\n",
    "    for i in tuples_list:\n",
    "        if i[0] == node:\n",
    "            neighbours.append(i[1])\n",
    "        if  i[1] == node:\n",
    "            neighbours.append(i[0])\n",
    "    for i in neighbours:\n",
    "        if color != color_assigned[i]:\n",
    "            energy = energy+1\n",
    "    return energy"
   ]
  },
  {
   "cell_type": "code",
   "execution_count": 46,
   "id": "4304756c-8883-485a-ab66-c5cc89ef5d21",
   "metadata": {},
   "outputs": [],
   "source": [
    "def calaculate_cut_edge(color_assigned, tuples_list, unique_numbers_list):\n",
    "    all_edges = len(tuples_list)\n",
    "    cut_edge = 0\n",
    "    for i in unique_numbers_list:\n",
    "        color = color_assigned[i]\n",
    "        ns = get_neighbours(color_assigned, tuples_list, i)\n",
    "        for j in ns:\n",
    "            if color_assigned[j] != color:\n",
    "                cut_edge += 1\n",
    "    return cut_edge/2"
   ]
  },
  {
   "cell_type": "code",
   "execution_count": null,
   "id": "dabde034-14e7-4b30-84dc-c0c4bcaf53ff",
   "metadata": {},
   "outputs": [],
   "source": [
    "class Graph():\n",
    "    #define hashmap of nodes\n",
    "    nodes = {}\n",
    "    weight = 0\n",
    "    k=0\n",
    "    sub_graphs = []\n",
    "\n",
    "    def add_notes(self, node, node_name):\n",
    "        self.nodes[node_name] = node\n",
    "    \n",
    "    def add_sub_graph(self, sub_graph):\n",
    "        self.sub_graphs.append(sub_graph)\n",
    "\n",
    "\n",
    "\n",
    "\n"
   ]
  }
 ],
 "metadata": {
  "kernelspec": {
   "display_name": "Python 3 (ipykernel)",
   "language": "python",
   "name": "python3"
  },
  "language_info": {
   "codemirror_mode": {
    "name": "ipython",
    "version": 3
   },
   "file_extension": ".py",
   "mimetype": "text/x-python",
   "name": "python",
   "nbconvert_exporter": "python",
   "pygments_lexer": "ipython3",
   "version": "3.11.4"
  }
 },
 "nbformat": 4,
 "nbformat_minor": 5
}
